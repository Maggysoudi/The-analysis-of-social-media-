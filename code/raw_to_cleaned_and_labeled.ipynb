{
 "cells": [
  {
   "cell_type": "code",
   "execution_count": 3,
   "metadata": {},
   "outputs": [],
   "source": [
    "import glob\n",
    "import os\n",
    "import nltk\n",
    "from nltk.corpus import stopwords\n",
    "from nltk.stem.snowball import SnowballStemmer\n",
    "import re\n",
    "import pandas as pd\n"
   ]
  },
  {
   "cell_type": "code",
   "execution_count": 4,
   "metadata": {},
   "outputs": [],
   "source": [
    "st = SnowballStemmer('english')\n",
    "stop_words = set(stopwords.words('english'))\n",
    "\n",
    "def clean_data(df, col, clean_col, label):\n",
    "    df = df.astype({\"body\": str})\n",
    "    # change to lower and remove spaces on either side\n",
    "    df[clean_col] = df[col].apply(lambda x: x.lower().strip())\n",
    "\n",
    "    # remove punctuation\n",
    "    df[clean_col] = df[clean_col].apply(lambda x: re.sub('[^a-zA-Z\\']', ' ', x))\n",
    "\n",
    "    # remove extra spaces in between\n",
    "    df[clean_col] = df[clean_col].apply(lambda x: re.sub(' +', ' ', x))\n",
    "    df.drop(['body', 'created_utc', 'created'], axis=1, inplace=True)\n",
    "    df['label'] = label\n",
    "    return df"
   ]
  },
  {
   "cell_type": "code",
   "execution_count": 7,
   "metadata": {},
   "outputs": [],
   "source": [
    "for label in ['fear', 'greed']:\n",
    "\n",
    "    path = f'data/{label}' # use your path\n",
    "\n",
    "    all_files = glob.glob(os.path.join(path, \"*.csv\"))\n",
    "\n",
    "    df = pd.concat((pd.read_csv(f, on_bad_lines='skip', header=0, engine='python', delimiter='|', index_col=False) for f in all_files), ignore_index=True)\n",
    "    df_cleaned = clean_data(df, 'body', 'clean_body', label)\n",
    "    df_cleaned.to_csv(f\"data/cleaned_labeled/{label}.csv\", sep=\"|\", index=False)"
   ]
  },
  {
   "cell_type": "code",
   "execution_count": 6,
   "metadata": {},
   "outputs": [],
   "source": [
    "    path = f'data/cleaned_labeled/' # use your path\n",
    "    all_files = glob.glob(os.path.join(path, \"*.csv\"))\n",
    "    greed_df = pd.read_csv(path+\"greed.csv\", on_bad_lines='skip', header=0, engine='python', delimiter='|', index_col=False)\n",
    "    fear_df = pd.read_csv(path+\"fear.csv\", on_bad_lines='skip', header=0, engine='python', delimiter='|', index_col=False)"
   ]
  },
  {
   "cell_type": "code",
   "execution_count": 4,
   "metadata": {},
   "outputs": [],
   "source": [
    "if greed_df.shape[0] > fear_df.shape[0]:\n",
    "    greed_df = greed_df.sample(n=fear_df.shape[0])\n",
    "else:\n",
    "    fear_df = fear_df.sample(n=greed_df.shape[0])\n",
    "df = pd.concat([greed_df,fear_df], ignore_index=True)"
   ]
  },
  {
   "cell_type": "code",
   "execution_count": 5,
   "metadata": {},
   "outputs": [],
   "source": [
    "df.to_csv(\"data/merged_labeled_cleaned.csv\", index=False, sep=\"|\")"
   ]
  },
  {
   "cell_type": "markdown",
   "metadata": {},
   "source": [
    "# Minimal Dataset\n",
    "Since the amount of data was far beyond the computation power that I had, \n",
    "I used 0.01 fraction of final data to do the experiments"
   ]
  },
  {
   "cell_type": "code",
   "execution_count": 8,
   "metadata": {},
   "outputs": [],
   "source": [
    "if greed_df.shape[0] > fear_df.shape[0]:\n",
    "    greed_df = greed_df.sample(n=fear_df.shape[0])\n",
    "else:\n",
    "    fear_df = fear_df.sample(n=greed_df.shape[0])\n",
    "\n",
    "small_greed_df = greed_df.sample(frac=0.01)\n",
    "small_fear_df = fear_df.sample(frac=0.01)\n",
    "df = pd.concat([small_greed_df,small_fear_df], ignore_index=True)\n",
    "df = df[df[\"clean_body\"].apply(lambda x: len(x.split()) > 5)]\n",
    "df.to_csv(\"data/small_merged_labeled_cleaned.csv\", index=False, sep=\"|\")"
   ]
  }
 ],
 "metadata": {
  "kernelspec": {
   "display_name": "Python 3.10.0 64-bit",
   "language": "python",
   "name": "python3"
  },
  "language_info": {
   "codemirror_mode": {
    "name": "ipython",
    "version": 3
   },
   "file_extension": ".py",
   "mimetype": "text/x-python",
   "name": "python",
   "nbconvert_exporter": "python",
   "pygments_lexer": "ipython3",
   "version": "3.10.0"
  },
  "orig_nbformat": 4,
  "vscode": {
   "interpreter": {
    "hash": "369f2c481f4da34e4445cda3fffd2e751bd1c4d706f27375911949ba6bb62e1c"
   }
  }
 },
 "nbformat": 4,
 "nbformat_minor": 2
}
