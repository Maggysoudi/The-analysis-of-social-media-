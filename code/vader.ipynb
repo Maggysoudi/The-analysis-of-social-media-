{
 "cells": [
  {
   "cell_type": "code",
   "execution_count": 13,
   "metadata": {},
   "outputs": [
    {
     "ename": "TypeError",
     "evalue": "'float' object is not iterable",
     "output_type": "error",
     "traceback": [
      "\u001b[1;31m---------------------------------------------------------------------------\u001b[0m",
      "\u001b[1;31mTypeError\u001b[0m                                 Traceback (most recent call last)",
      "\u001b[1;32md:\\Users\\qp\\Desktop\\Academic\\maede\\reddit\\v1\\vader.ipynb Cell 1\u001b[0m in \u001b[0;36m<cell line: 6>\u001b[1;34m()\u001b[0m\n\u001b[0;32m      <a href='vscode-notebook-cell:/d%3A/Users/qp/Desktop/Academic/maede/reddit/v1/vader.ipynb#W0sZmlsZQ%3D%3D?line=4'>5</a>\u001b[0m results \u001b[39m=\u001b[39m []\n\u001b[0;32m      <a href='vscode-notebook-cell:/d%3A/Users/qp/Desktop/Academic/maede/reddit/v1/vader.ipynb#W0sZmlsZQ%3D%3D?line=5'>6</a>\u001b[0m \u001b[39mfor\u001b[39;00m i, sentence \u001b[39min\u001b[39;00m df\u001b[39m.\u001b[39miterrows():\n\u001b[1;32m----> <a href='vscode-notebook-cell:/d%3A/Users/qp/Desktop/Academic/maede/reddit/v1/vader.ipynb#W0sZmlsZQ%3D%3D?line=6'>7</a>\u001b[0m     vs \u001b[39m=\u001b[39m analyzer\u001b[39m.\u001b[39;49mpolarity_scores(sentence[\u001b[39m'\u001b[39;49m\u001b[39mclean_body\u001b[39;49m\u001b[39m'\u001b[39;49m])\n\u001b[0;32m      <a href='vscode-notebook-cell:/d%3A/Users/qp/Desktop/Academic/maede/reddit/v1/vader.ipynb#W0sZmlsZQ%3D%3D?line=7'>8</a>\u001b[0m     results\u001b[39m.\u001b[39mappend(\u001b[39m'\u001b[39m\u001b[39mgreed\u001b[39m\u001b[39m'\u001b[39m \u001b[39mif\u001b[39;00m vs[\u001b[39m'\u001b[39m\u001b[39mcompound\u001b[39m\u001b[39m'\u001b[39m]\u001b[39m>\u001b[39m\u001b[39m0\u001b[39m \u001b[39melse\u001b[39;00m \u001b[39m'\u001b[39m\u001b[39mfear\u001b[39m\u001b[39m'\u001b[39m)\n",
      "File \u001b[1;32mc:\\Python310\\lib\\site-packages\\vaderSentiment\\vaderSentiment.py:241\u001b[0m, in \u001b[0;36mSentimentIntensityAnalyzer.polarity_scores\u001b[1;34m(self, text)\u001b[0m\n\u001b[0;32m    239\u001b[0m text_no_emoji \u001b[39m=\u001b[39m \u001b[39m\"\u001b[39m\u001b[39m\"\u001b[39m\n\u001b[0;32m    240\u001b[0m prev_space \u001b[39m=\u001b[39m \u001b[39mTrue\u001b[39;00m\n\u001b[1;32m--> 241\u001b[0m \u001b[39mfor\u001b[39;00m \u001b[39mchr\u001b[39m \u001b[39min\u001b[39;00m text:\n\u001b[0;32m    242\u001b[0m     \u001b[39mif\u001b[39;00m \u001b[39mchr\u001b[39m \u001b[39min\u001b[39;00m \u001b[39mself\u001b[39m\u001b[39m.\u001b[39memojis:\n\u001b[0;32m    243\u001b[0m         \u001b[39m# get the textual description\u001b[39;00m\n\u001b[0;32m    244\u001b[0m         description \u001b[39m=\u001b[39m \u001b[39mself\u001b[39m\u001b[39m.\u001b[39memojis[\u001b[39mchr\u001b[39m]\n",
      "\u001b[1;31mTypeError\u001b[0m: 'float' object is not iterable"
     ]
    }
   ],
   "source": [
    "from vaderSentiment.vaderSentiment import SentimentIntensityAnalyzer\n",
    "import pandas as pd\n",
    "df = pd.read_csv('data/merged_labeled_cleaned.csv',delimiter='|', index_col=False)\n",
    "analyzer = SentimentIntensityAnalyzer()\n",
    "results = []\n",
    "for i, sentence in df.iterrows():\n",
    "    vs = analyzer.polarity_scores(sentence['clean_body'])\n",
    "    results.append('greed' if vs['compound']>0 else 'fear')"
   ]
  },
  {
   "cell_type": "code",
   "execution_count": null,
   "metadata": {},
   "outputs": [
    {
     "data": {
      "text/plain": [
       "0.5055176519071386"
      ]
     },
     "execution_count": 12,
     "metadata": {},
     "output_type": "execute_result"
    }
   ],
   "source": [
    "matched = 0\n",
    "for i, sentence in df.iterrows():\n",
    "    if sentence['label'] == results[i]:\n",
    "        matched +=1\n",
    "matched/len(results)"
   ]
  }
 ],
 "metadata": {
  "kernelspec": {
   "display_name": "Python 3.10.0 64-bit",
   "language": "python",
   "name": "python3"
  },
  "language_info": {
   "codemirror_mode": {
    "name": "ipython",
    "version": 3
   },
   "file_extension": ".py",
   "mimetype": "text/x-python",
   "name": "python",
   "nbconvert_exporter": "python",
   "pygments_lexer": "ipython3",
   "version": "3.10.0"
  },
  "orig_nbformat": 4,
  "vscode": {
   "interpreter": {
    "hash": "369f2c481f4da34e4445cda3fffd2e751bd1c4d706f27375911949ba6bb62e1c"
   }
  }
 },
 "nbformat": 4,
 "nbformat_minor": 2
}
